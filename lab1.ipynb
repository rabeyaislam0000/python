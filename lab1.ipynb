{
 "cells": [
  {
   "cell_type": "markdown",
   "metadata": {},
   "source": [
    "+ python hello world code"
   ]
  },
  {
   "cell_type": "code",
   "execution_count": 3,
   "metadata": {},
   "outputs": [
    {
     "name": "stdout",
     "output_type": "stream",
     "text": [
      "Hello World!\n"
     ]
    }
   ],
   "source": [
    "print(\"Hello World!\")"
   ]
  },
  {
   "cell_type": "markdown",
   "metadata": {},
   "source": [
    "+ python data type example\n"
   ]
  },
  {
   "cell_type": "code",
   "execution_count": 6,
   "metadata": {},
   "outputs": [
    {
     "data": {
      "text/plain": [
       "123"
      ]
     },
     "execution_count": 6,
     "metadata": {},
     "output_type": "execute_result"
    }
   ],
   "source": [
    "# add two int data type\n",
    "\n",
    "a=67\n",
    "b=56\n",
    "c=a+b\n",
    "c\n",
    "\n"
   ]
  },
  {
   "cell_type": "code",
   "execution_count": 7,
   "metadata": {},
   "outputs": [
    {
     "data": {
      "text/plain": [
       "124.12"
      ]
     },
     "execution_count": 7,
     "metadata": {},
     "output_type": "execute_result"
    }
   ],
   "source": [
    "# add float data type\n",
    "\n",
    "a=67.45\n",
    "b=56.67\n",
    "c=a+b\n",
    "c\n"
   ]
  },
  {
   "cell_type": "code",
   "execution_count": 9,
   "metadata": {},
   "outputs": [
    {
     "name": "stdout",
     "output_type": "stream",
     "text": [
      "rabeya\n"
     ]
    }
   ],
   "source": [
    "#print string\n",
    "\n",
    "a=\"rabeya\"\n",
    "print(a)"
   ]
  },
  {
   "cell_type": "code",
   "execution_count": 10,
   "metadata": {},
   "outputs": [
    {
     "name": "stdout",
     "output_type": "stream",
     "text": [
      "54\n"
     ]
    }
   ],
   "source": [
    "# print age\n",
    "\n",
    "age=54\n",
    "print(age)"
   ]
  },
  {
   "cell_type": "code",
   "execution_count": 11,
   "metadata": {},
   "outputs": [
    {
     "name": "stdout",
     "output_type": "stream",
     "text": [
      "3.4\n"
     ]
    }
   ],
   "source": [
    "#print cgpa\n",
    "\n",
    "cgpa=3.4\n",
    "print(cgpa)"
   ]
  },
  {
   "cell_type": "code",
   "execution_count": 12,
   "metadata": {},
   "outputs": [
    {
     "name": "stdout",
     "output_type": "stream",
     "text": [
      "e\n"
     ]
    }
   ],
   "source": [
    "# characters position\n",
    "\n",
    "a=\"rabeya\"\n",
    "print(a[3])"
   ]
  },
  {
   "cell_type": "code",
   "execution_count": 13,
   "metadata": {},
   "outputs": [
    {
     "name": "stdout",
     "output_type": "stream",
     "text": [
      "13\n"
     ]
    }
   ],
   "source": [
    "# string length\n",
    "\n",
    "a=\"rabeya khatun\"\n",
    "print(len(a))"
   ]
  },
  {
   "cell_type": "code",
   "execution_count": 15,
   "metadata": {},
   "outputs": [
    {
     "name": "stdout",
     "output_type": "stream",
     "text": [
      "RABEYA KHATUN\n"
     ]
    }
   ],
   "source": [
    "# returns the string in upper case\n",
    "\n",
    "a=\"rabeya khatun\"\n",
    "print(a.upper())"
   ]
  },
  {
   "cell_type": "code",
   "execution_count": 16,
   "metadata": {},
   "outputs": [
    {
     "name": "stdout",
     "output_type": "stream",
     "text": [
      "rabeya\n"
     ]
    }
   ],
   "source": [
    "# returns the string in lower case\n",
    "\n",
    "a=\"RABEYA\"\n",
    "print(a.lower())"
   ]
  },
  {
   "cell_type": "code",
   "execution_count": 17,
   "metadata": {},
   "outputs": [
    {
     "name": "stdout",
     "output_type": "stream",
     "text": [
      "rabeya islam\n"
     ]
    }
   ],
   "source": [
    " # replaces a string with another string\n",
    "    \n",
    "a=\"rabeya khatun\"\n",
    "print(a.replace(\"khatun\",\"islam\"))"
   ]
  },
  {
   "cell_type": "code",
   "execution_count": 18,
   "metadata": {},
   "outputs": [
    {
     "name": "stdout",
     "output_type": "stream",
     "text": [
      "['red', 'blue', 'black', 'pink', 'green']\n"
     ]
    }
   ],
   "source": [
    "# create list\n",
    "\n",
    "listis = [\"red\",\"blue\",\"black\",\"pink\",\"green\"]\n",
    "print(listis)"
   ]
  },
  {
   "cell_type": "code",
   "execution_count": 19,
   "metadata": {},
   "outputs": [
    {
     "name": "stdout",
     "output_type": "stream",
     "text": [
      "black\n"
     ]
    }
   ],
   "source": [
    "# print any list item\n",
    "\n",
    "listis = [\"red\",\"blue\",\"black\",\"pink\",\"green\"]\n",
    "print(listis[2])"
   ]
  },
  {
   "cell_type": "code",
   "execution_count": 20,
   "metadata": {},
   "outputs": [
    {
     "name": "stdout",
     "output_type": "stream",
     "text": [
      "['red', 'blue', 'white', 'pink', 'green']\n"
     ]
    }
   ],
   "source": [
    "# change any list item with other item\n",
    "\n",
    "listis = [\"red\",\"blue\",\"black\",\"pink\",\"green\"]\n",
    "listis[2]=\"white\"\n",
    "print(listis)"
   ]
  },
  {
   "cell_type": "code",
   "execution_count": 25,
   "metadata": {},
   "outputs": [
    {
     "name": "stdout",
     "output_type": "stream",
     "text": [
      "red\n",
      "blue\n",
      "black\n",
      "pink\n",
      "green\n"
     ]
    }
   ],
   "source": [
    "# Print all items in the list, one by one\n",
    "\n",
    "listis = [\"red\",\"blue\",\"black\",\"pink\",\"green\"]\n",
    "for x in listis:\n",
    "    print(x)\n"
   ]
  },
  {
   "cell_type": "code",
   "execution_count": 40,
   "metadata": {},
   "outputs": [
    {
     "name": "stdout",
     "output_type": "stream",
     "text": [
      "['red', 'blue', 'black', 'yellow', 'pink', 'green']\n"
     ]
    }
   ],
   "source": [
    "# insert a colour\n",
    "\n",
    "listis = [\"red\",\"blue\",\"black\",\"pink\",\"green\"]\n",
    "listis.insert(3,\"yellow\")\n",
    "print(listis)\n"
   ]
  },
  {
   "cell_type": "code",
   "execution_count": 42,
   "metadata": {},
   "outputs": [
    {
     "name": "stdout",
     "output_type": "stream",
     "text": [
      "['red', 'blue', 'black', 'green']\n"
     ]
    }
   ],
   "source": [
    "#remove a colour\n",
    "\n",
    "listis = [\"red\",\"blue\",\"black\",\"pink\",\"green\"]\n",
    "listis.remove(\"pink\")\n",
    "print(listis)"
   ]
  },
  {
   "cell_type": "code",
   "execution_count": 43,
   "metadata": {},
   "outputs": [
    {
     "name": "stdout",
     "output_type": "stream",
     "text": [
      "6.28334\n"
     ]
    }
   ],
   "source": [
    "# any number squre value\n",
    "\n",
    "def makedouble(x):\n",
    "    return 2*x;\n",
    "print(makedouble(3.14167))"
   ]
  },
  {
   "cell_type": "markdown",
   "metadata": {},
   "source": [
    "+ if.......else condition"
   ]
  },
  {
   "cell_type": "code",
   "execution_count": 46,
   "metadata": {},
   "outputs": [
    {
     "name": "stdout",
     "output_type": "stream",
     "text": [
      "B\n"
     ]
    }
   ],
   "source": [
    "# gread system\n",
    "\n",
    "def getgread(marks):\n",
    "    if(marks>=80):\n",
    "        return \"A+\"\n",
    "    elif(marks>=70 and marks <=79):\n",
    "        return \"A\"\n",
    "    elif(marks>=60 and marks <=69):\n",
    "        return \"B\"\n",
    "    elif(marks>=50 and marks <=59):\n",
    "        return \"C\"\n",
    "    elif(marks>=40 and marks <=49):\n",
    "        return \"D\"\n",
    "    else:\n",
    "        return \"fail\"\n",
    "print(getgread(66))\n",
    "           \n",
    "\n",
    "    "
   ]
  },
  {
   "cell_type": "code",
   "execution_count": 51,
   "metadata": {},
   "outputs": [
    {
     "name": "stdout",
     "output_type": "stream",
     "text": [
      "number is less then\n"
     ]
    }
   ],
   "source": [
    "# greater then or less then or equal to\n",
    "\n",
    "def greaterless(number):\n",
    "    if(number>70):\n",
    "        return \"number is greater then\"\n",
    "    elif(number<70):\n",
    "        return \"number is less then\"\n",
    "    else:\n",
    "        return \"number is equal\"\n",
    "print(greaterless(56))"
   ]
  },
  {
   "cell_type": "code",
   "execution_count": 54,
   "metadata": {},
   "outputs": [
    {
     "name": "stdout",
     "output_type": "stream",
     "text": [
      "a is greater than b\n"
     ]
    }
   ],
   "source": [
    "# greater or less then or equal to\n",
    "\n",
    "a = 456\n",
    "b = 346\n",
    "if a > b:\n",
    "    print(\"a is greater than b\")\n",
    "elif a<b:\n",
    "     print(\"a is less than b\")\n",
    "elif a == b:\n",
    "    print(\"a and b are equal\")"
   ]
  },
  {
   "cell_type": "code",
   "execution_count": 1,
   "metadata": {},
   "outputs": [
    {
     "name": "stdout",
     "output_type": "stream",
     "text": [
      "1\n",
      "2\n",
      "3\n",
      "4\n",
      "5\n",
      "6\n",
      "7\n",
      "8\n",
      "9\n"
     ]
    }
   ],
   "source": [
    "# use while\n",
    "\n",
    "number=1\n",
    "while number<10:\n",
    "    print(number)\n",
    "    number+=1\n",
    "\n"
   ]
  },
  {
   "cell_type": "code",
   "execution_count": 3,
   "metadata": {},
   "outputs": [
    {
     "name": "stdout",
     "output_type": "stream",
     "text": [
      "0\n",
      "1\n",
      "2\n",
      "3\n",
      "4\n",
      "5\n"
     ]
    }
   ],
   "source": [
    "\n",
    "\n",
    "\n",
    "for x in range(6):\n",
    "    print(x)\n"
   ]
  },
  {
   "cell_type": "code",
   "execution_count": 5,
   "metadata": {},
   "outputs": [
    {
     "name": "stdout",
     "output_type": "stream",
     "text": [
      "1\n",
      "3\n",
      "5\n",
      "7\n",
      "9\n",
      "11\n",
      "13\n",
      "15\n",
      "17\n"
     ]
    }
   ],
   "source": [
    "for x in range(1,19,2):\n",
    "    print(x)\n"
   ]
  },
  {
   "cell_type": "code",
   "execution_count": 12,
   "metadata": {},
   "outputs": [
    {
     "name": "stdout",
     "output_type": "stream",
     "text": [
      "welcome, rabeya\n"
     ]
    }
   ],
   "source": [
    "#function\n",
    "\n",
    "def my_function(name):\n",
    "   print(\"welcome, \" + name)\n",
    "my_function(\"rabeya\")"
   ]
  },
  {
   "cell_type": "code",
   "execution_count": null,
   "metadata": {},
   "outputs": [],
   "source": [
    "#function\n",
    "\n",
    "def my_function(name):\n",
    "  return \"welcome, \"\n",
    "my_function(\"rabeya\")"
   ]
  }
 ],
 "metadata": {
  "kernelspec": {
   "display_name": "Python 3",
   "language": "python",
   "name": "python3"
  },
  "language_info": {
   "codemirror_mode": {
    "name": "ipython",
    "version": 3
   },
   "file_extension": ".py",
   "mimetype": "text/x-python",
   "name": "python",
   "nbconvert_exporter": "python",
   "pygments_lexer": "ipython3",
   "version": "3.7.3"
  }
 },
 "nbformat": 4,
 "nbformat_minor": 2
}
